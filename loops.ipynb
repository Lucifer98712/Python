{
 "cells": [
  {
   "cell_type": "markdown",
   "metadata": {},
   "source": [
    "No. 1: while loop\n",
    "\n",
    "New thing in python: You can use else with while statement"
   ]
  },
  {
   "cell_type": "code",
   "execution_count": 4,
   "metadata": {},
   "outputs": [
    {
     "name": "stdout",
     "output_type": "stream",
     "text": [
      "12 is a multiple of 12\n",
      "Thank you!\n"
     ]
    }
   ],
   "source": [
    "var = int(input(\"Enter a multiple of 12:\"))\n",
    "while var % 12 != 0:\n",
    "    var = int(input(\"Enter a multiple of 12:\"))\n",
    "else:\n",
    "    print(\"%d is a multiple of 12\" %var)\n",
    "print(\"Thank you!\")        "
   ]
  },
  {
   "cell_type": "markdown",
   "metadata": {},
   "source": [
    "No. 2: for loop\n",
    "\n",
    "for counter in sequence:\n",
    "\n",
    "    statement(s)"
   ]
  },
  {
   "cell_type": "code",
   "execution_count": null,
   "metadata": {},
   "outputs": [],
   "source": []
  }
 ],
 "metadata": {
  "kernelspec": {
   "display_name": "Python 3",
   "language": "python",
   "name": "python3"
  },
  "language_info": {
   "codemirror_mode": {
    "name": "ipython",
    "version": 3
   },
   "file_extension": ".py",
   "mimetype": "text/x-python",
   "name": "python",
   "nbconvert_exporter": "python",
   "pygments_lexer": "ipython3",
   "version": "3.13.2"
  }
 },
 "nbformat": 4,
 "nbformat_minor": 2
}
