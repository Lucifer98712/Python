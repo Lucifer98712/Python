{
 "cells": [
  {
   "cell_type": "markdown",
   "metadata": {},
   "source": [
    "No. 1: while loop\n",
    "\n",
    "New thing in python: You can use else with while statement"
   ]
  },
  {
   "cell_type": "code",
   "execution_count": 4,
   "metadata": {},
   "outputs": [
    {
     "name": "stdout",
     "output_type": "stream",
     "text": [
      "12 is a multiple of 12\n",
      "Thank you!\n"
     ]
    }
   ],
   "source": [
    "var = int(input(\"Enter a multiple of 12:\"))\n",
    "while var % 12 != 0:\n",
    "    var = int(input(\"Enter a multiple of 12:\"))\n",
    "else:\n",
    "    print(\"%d is a multiple of 12\" %var)\n",
    "print(\"Thank you!\")        "
   ]
  },
  {
   "cell_type": "markdown",
   "metadata": {},
   "source": [
    "No. 2: for loop\n",
    "\n",
    "for counter in sequence:\n",
    "\n",
    "    statement(s)"
   ]
  },
  {
   "cell_type": "code",
   "execution_count": 7,
   "metadata": {},
   "outputs": [
    {
     "name": "stdout",
     "output_type": "stream",
     "text": [
      "S i m p l e \"   % "
     ]
    }
   ],
   "source": [
    "x = \"Simple\\\" %\"\n",
    "for i in x:\n",
    "    print(i , end=\" \")"
   ]
  },
  {
   "cell_type": "markdown",
   "metadata": {},
   "source": [
    "Nested loops : i) for in for  ii) while in while  iii) for in while  iv) while in for"
   ]
  },
  {
   "cell_type": "code",
   "execution_count": 12,
   "metadata": {},
   "outputs": [
    {
     "name": "stdout",
     "output_type": "stream",
     "text": [
      "1 2 3 \n",
      "a b c \n"
     ]
    }
   ],
   "source": [
    "X = [[1,2,3,], ['a','b','c']]\n",
    "for i in  X:\n",
    "    for j in i:\n",
    "        print(j, end = \" \")\n",
    "    print()    "
   ]
  },
  {
   "cell_type": "code",
   "execution_count": 17,
   "metadata": {},
   "outputs": [
    {
     "name": "stdout",
     "output_type": "stream",
     "text": [
      "1 2 3 \n",
      "a b c \n"
     ]
    }
   ],
   "source": [
    "# using while loop\n",
    "i = 0\n",
    "while i < len(X):\n",
    "    j = 0\n",
    "    while j < len(X[i]):\n",
    "        print(X[i][j], end = \" \")\n",
    "        j += 1\n",
    "    print()\n",
    "    i += 1    \n",
    "\n",
    "\n"
   ]
  },
  {
   "cell_type": "markdown",
   "metadata": {},
   "source": [
    "Loop control statements"
   ]
  },
  {
   "cell_type": "code",
   "execution_count": null,
   "metadata": {},
   "outputs": [
    {
     "name": "stdout",
     "output_type": "stream",
     "text": [
      "Hey there"
     ]
    }
   ],
   "source": [
    "# break keyword:\n",
    "Y = \"Hey there, how are you?\"\n",
    "for i in Y:\n",
    "    if i == \",\":\n",
    "        break\n",
    "    print(i, end = \"\")"
   ]
  },
  {
   "cell_type": "code",
   "execution_count": 25,
   "metadata": {},
   "outputs": [
    {
     "name": "stdout",
     "output_type": "stream",
     "text": [
      "[1, 7, 9, 11, 13]\n"
     ]
    }
   ],
   "source": [
    "# continue keyword:\n",
    "Z = [1,44,13,21,56,7,9,11,64,58]\n",
    "V = []\n",
    "for i in Z:\n",
    "    # skip numbers greater than 15\n",
    "    if i > 15:\n",
    "        continue\n",
    "    V.append(i)\n",
    "V.sort()\n",
    "print(V)        "
   ]
  }
 ],
 "metadata": {
  "kernelspec": {
   "display_name": "Python 3",
   "language": "python",
   "name": "python3"
  },
  "language_info": {
   "codemirror_mode": {
    "name": "ipython",
    "version": 3
   },
   "file_extension": ".py",
   "mimetype": "text/x-python",
   "name": "python",
   "nbconvert_exporter": "python",
   "pygments_lexer": "ipython3",
   "version": "3.13.2"
  }
 },
 "nbformat": 4,
 "nbformat_minor": 2
}
