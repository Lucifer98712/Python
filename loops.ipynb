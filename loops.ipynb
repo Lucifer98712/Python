{
 "cells": [
  {
   "cell_type": "markdown",
   "metadata": {},
   "source": [
    "No. 1: while loop\n",
    "\n",
    "New thing in python: You can use else with while statement"
   ]
  },
  {
   "cell_type": "code",
   "execution_count": 4,
   "metadata": {},
   "outputs": [
    {
     "name": "stdout",
     "output_type": "stream",
     "text": [
      "12 is a multiple of 12\n",
      "Thank you!\n"
     ]
    }
   ],
   "source": [
    "var = int(input(\"Enter a multiple of 12:\"))\n",
    "while var % 12 != 0:\n",
    "    var = int(input(\"Enter a multiple of 12:\"))\n",
    "else:\n",
    "    print(\"%d is a multiple of 12\" %var)\n",
    "print(\"Thank you!\")        "
   ]
  },
  {
   "cell_type": "markdown",
   "metadata": {},
   "source": [
    "No. 2: for loop\n",
    "\n",
    "for counter in sequence:\n",
    "\n",
    "    statement(s)"
   ]
  },
  {
   "cell_type": "code",
   "execution_count": 7,
   "metadata": {},
   "outputs": [
    {
     "name": "stdout",
     "output_type": "stream",
     "text": [
      "S i m p l e \"   % "
     ]
    }
   ],
   "source": [
    "x = \"Simple\\\" %\"\n",
    "for i in x:\n",
    "    print(i , end=\" \")"
   ]
  },
  {
   "cell_type": "code",
   "execution_count": 4,
   "metadata": {},
   "outputs": [
    {
     "name": "stdout",
     "output_type": "stream",
     "text": [
      "10 12 14 16 18 20 22 24 26 28 30 32 34 36 38 "
     ]
    }
   ],
   "source": [
    "# Using range() function\n",
    "for i in range(10, 40, 2):\n",
    "    print(i,  end=\" \")"
   ]
  },
  {
   "cell_type": "code",
   "execution_count": 4,
   "metadata": {},
   "outputs": [
    {
     "name": "stdout",
     "output_type": "stream",
     "text": [
      "\n",
      "1\n",
      "12\n",
      "123\n",
      "1234\n",
      "12345\n"
     ]
    }
   ],
   "source": [
    "for i in range(1,7):\n",
    "    for j in range(1,i):\n",
    "        print(j, end='')\n",
    "    print()        "
   ]
  },
  {
   "cell_type": "code",
   "execution_count": 29,
   "metadata": {},
   "outputs": [
    {
     "name": "stdout",
     "output_type": "stream",
     "text": [
      "    1 \n",
      "   1 2 \n",
      "  1 2 3 \n",
      " 1 2 3 4 \n",
      "1 2 3 4 5 \n"
     ]
    }
   ],
   "source": [
    "# Pattern using user input\n",
    "n = int(input(\"Enter a number: \"))\n",
    "for i in range(1, n+1):\n",
    "    for k in range(1,n-i+1):\n",
    "        print(end=\" \") \n",
    "    for j in range(1,i+1):\n",
    "        print(j, end=' ')        \n",
    "    print()    "
   ]
  },
  {
   "cell_type": "code",
   "execution_count": 8,
   "metadata": {},
   "outputs": [
    {
     "name": "stdout",
     "output_type": "stream",
     "text": [
      "Enter elements for Matrix1:\n",
      "Matrix1: [[1, 2, 3], [4, 5, 6], [7, 8, 9]]\n",
      "Enter elements for Matrix2:\n",
      "Matrix2: [[9, 8, 7], [6, 5, 4], [3, 2, 1]]\n",
      "Matrix1 + Matrix2: [[10, 10, 10], [10, 10, 10], [10, 10, 10]]\n",
      "Matrix1 - Matrix2: [[-8, -6, -4], [-2, 0, 2], [4, 6, 8]]\n",
      "Matrix1 * Matrix2: [[30, 24, 18], [84, 69, 54], [138, 114, 90]]\n"
     ]
    }
   ],
   "source": [
    "# Most common use of loop:\n",
    "# To iterate matrices\n",
    "\n",
    "# For different matrix calculations:\n",
    "def matrix_addition(mat1,mat2):\n",
    "    result = []\n",
    "    for i in range(0,len(mat1)):\n",
    "        X = []\n",
    "        for j in range(0,len(mat1[0])):\n",
    "            X.insert(j, mat1[i][j] + mat2[i][j])\n",
    "        result.extend([X]) \n",
    "\n",
    "    return result\n",
    "\n",
    "\n",
    "def matrix_substraction(mat1,mat2):\n",
    "    result = []\n",
    "    for i in range(0,len(mat1)):\n",
    "        X = []\n",
    "        for j in range(0,len(mat1[0])):\n",
    "            X.insert(j, mat1[i][j] - mat2[i][j])\n",
    "        result.extend([X]) \n",
    "\n",
    "    return result\n",
    "\n",
    "\n",
    "def matrix_multiplication(mat1,mat2):\n",
    "    result = []\n",
    "    for k in range(0,len(mat2[0])):\n",
    "        Y = []\n",
    "        for i in range(0,len(mat1)):\n",
    "            X = []\n",
    "            for j in range(0,len(mat1[0])):\n",
    "                X.insert(j, mat1[k][j] * mat2[j][i])\n",
    "\n",
    "            X = sum(X)\n",
    "            Y.append(X) \n",
    "        result.extend([Y]) \n",
    "\n",
    "    return result\n",
    "\n",
    "Matrix1 = []\n",
    "m = int(input(\"Enter number of rows: \"))\n",
    "n = int(input(\"Enter number of columns: \"))\n",
    "\n",
    "print(\"Enter elements for Matrix1:\")\n",
    "for i in range(0,m):\n",
    "    X = []\n",
    "    for j in range(0,n):\n",
    "        X.insert(j, int(input(\"Enter element for [%d]*[%d]\" %(i,j))))\n",
    "    Matrix1.extend([X])  \n",
    "\n",
    "print(\"Matrix1: \" + str(Matrix1))\n",
    "\n",
    "Matrix2 = []\n",
    "\n",
    "print(\"Enter elements for Matrix2:\")\n",
    "for i in range(0,m):\n",
    "    X = []\n",
    "    for j in range(0,n):\n",
    "        X.insert(j, int(input(\"Enter element for [%d]*[%d]\" %(i,j))))\n",
    "    Matrix2.extend([X]) \n",
    "\n",
    "print(\"Matrix2: \" + str(Matrix2))\n",
    "\n",
    "print(\"Matrix1 + Matrix2: \" + str(matrix_addition(Matrix1,Matrix2)))\n",
    "print(\"Matrix1 - Matrix2: \" + str(matrix_substraction(Matrix1,Matrix2)))\n",
    "print(\"Matrix1 * Matrix2: \" + str(matrix_multiplication(Matrix1,Matrix2)))\n",
    "\n",
    "\n",
    "\n"
   ]
  },
  {
   "cell_type": "markdown",
   "metadata": {},
   "source": [
    "Nested loops : i) for in for  ii) while in while  iii) for in while  iv) while in for"
   ]
  },
  {
   "cell_type": "code",
   "execution_count": 11,
   "metadata": {},
   "outputs": [
    {
     "name": "stdout",
     "output_type": "stream",
     "text": [
      "1 2 3 4 \n",
      "a b c d \n"
     ]
    }
   ],
   "source": [
    "X = [[1,2,3,4], ['a','b','c','d']]\n",
    "for i in  X:\n",
    "    for j in i:\n",
    "        print(j, end = \" \")\n",
    "    print()    "
   ]
  },
  {
   "cell_type": "code",
   "execution_count": 17,
   "metadata": {},
   "outputs": [
    {
     "name": "stdout",
     "output_type": "stream",
     "text": [
      "1 2 3 \n",
      "a b c \n"
     ]
    }
   ],
   "source": [
    "# using while loop\n",
    "i = 0\n",
    "while i < len(X):\n",
    "    j = 0\n",
    "    while j < len(X[i]):\n",
    "        print(X[i][j], end = \" \")\n",
    "        j += 1\n",
    "    print()\n",
    "    i += 1    \n",
    "\n",
    "\n"
   ]
  },
  {
   "cell_type": "markdown",
   "metadata": {},
   "source": [
    "Loop control statements"
   ]
  },
  {
   "cell_type": "code",
   "execution_count": null,
   "metadata": {},
   "outputs": [
    {
     "name": "stdout",
     "output_type": "stream",
     "text": [
      "Hey there"
     ]
    }
   ],
   "source": [
    "# break keyword:\n",
    "Y = \"Hey there, how are you?\"\n",
    "for i in Y:\n",
    "    if i == \",\":\n",
    "        break\n",
    "    print(i, end = \"\")"
   ]
  },
  {
   "cell_type": "code",
   "execution_count": 25,
   "metadata": {},
   "outputs": [
    {
     "name": "stdout",
     "output_type": "stream",
     "text": [
      "[1, 7, 9, 11, 13]\n"
     ]
    }
   ],
   "source": [
    "# continue keyword:\n",
    "Z = [1,44,13,21,56,7,9,11,64,58]\n",
    "V = []\n",
    "for i in Z:\n",
    "    # skip numbers greater than 15\n",
    "    if i > 15:\n",
    "        continue\n",
    "    V.append(i)\n",
    "V.sort()\n",
    "print(V)        "
   ]
  },
  {
   "cell_type": "markdown",
   "metadata": {},
   "source": [
    "While loop is used repeat a section of code 'n' no. of times until a specific condition is met."
   ]
  },
  {
   "cell_type": "code",
   "execution_count": 1,
   "metadata": {},
   "outputs": [
    {
     "name": "stdout",
     "output_type": "stream",
     "text": [
      "Python Python Python Python Python Python Python Python Python Python "
     ]
    }
   ],
   "source": [
    "i = 0\n",
    "while i < 10:\n",
    "    print('Python', end = \" \")\n",
    "    i += 1"
   ]
  },
  {
   "cell_type": "code",
   "execution_count": 2,
   "metadata": {},
   "outputs": [
    {
     "name": "stdout",
     "output_type": "stream",
     "text": [
      "Python Python Python Python Python Python Python Python Python Python "
     ]
    }
   ],
   "source": [
    "i = 10\n",
    "while i > 0:\n",
    "    print('Python', end = \" \")\n",
    "    i -= 1"
   ]
  },
  {
   "cell_type": "code",
   "execution_count": 5,
   "metadata": {},
   "outputs": [
    {
     "name": "stdout",
     "output_type": "stream",
     "text": [
      "Sum of first 10 odd numbers is:  25\n"
     ]
    }
   ],
   "source": [
    "# Some more practise\n",
    "i = 1\n",
    "sum = 0\n",
    "while i <= 10:\n",
    "     sum = sum + i\n",
    "     i += 2\n",
    "print(\"Sum of first 10 odd numbers is: \", sum)     "
   ]
  },
  {
   "cell_type": "code",
   "execution_count": 1,
   "metadata": {},
   "outputs": [
    {
     "name": "stdout",
     "output_type": "stream",
     "text": [
      "Reverse: 5432\n"
     ]
    }
   ],
   "source": [
    "# Reverse a number:\n",
    "num = int(input(\"Enter a number: \"))\n",
    "rev = 0\n",
    "while(num > 0):\n",
    "    rev = rev*10 + num%10\n",
    "    num = num//10\n",
    "print(\"Reverse:\", rev)    "
   ]
  }
 ],
 "metadata": {
  "kernelspec": {
   "display_name": "Python 3",
   "language": "python",
   "name": "python3"
  },
  "language_info": {
   "codemirror_mode": {
    "name": "ipython",
    "version": 3
   },
   "file_extension": ".py",
   "mimetype": "text/x-python",
   "name": "python",
   "nbconvert_exporter": "python",
   "pygments_lexer": "ipython3",
   "version": "3.13.2"
  }
 },
 "nbformat": 4,
 "nbformat_minor": 2
}
