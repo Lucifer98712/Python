{
 "cells": [
  {
   "cell_type": "markdown",
   "id": "87338bce",
   "metadata": {},
   "source": [
    "Scripting: Scripting is writing programs to automate a task.\n",
    "\n",
    "Python by itself is a scripting language.\n",
    "\n",
    "The code that we write are intrepreted during runtime. They are not compiled."
   ]
  },
  {
   "cell_type": "code",
   "execution_count": 1,
   "id": "a10d67f6",
   "metadata": {},
   "outputs": [
    {
     "name": "stdout",
     "output_type": "stream",
     "text": [
      "d:\\VS\\Python\n"
     ]
    }
   ],
   "source": [
    "# Lets import the OS library\n",
    "import os\n",
    "\n",
    "def current_directory():\n",
    "    cwd = os.getcwd() # Stores the current working directory in cwd variable\n",
    "    print(cwd)\n",
    "\n",
    "current_directory()    "
   ]
  },
  {
   "cell_type": "code",
   "execution_count": 4,
   "id": "075f8754",
   "metadata": {},
   "outputs": [
    {
     "name": "stdout",
     "output_type": "stream",
     "text": [
      "d:\\VS\\Python\\Example.txt\n"
     ]
    }
   ],
   "source": [
    "# Retrieve the path of the file\n",
    "\n",
    "def file_path(filename):\n",
    "    fp = os.path.abspath((filename))\n",
    "    print(fp)\n",
    "\n",
    "filename = \"Example.txt\"\n",
    "file_path(filename)    "
   ]
  },
  {
   "cell_type": "code",
   "execution_count": 8,
   "id": "ed5c3685",
   "metadata": {},
   "outputs": [
    {
     "name": "stdout",
     "output_type": "stream",
     "text": [
      "1747497742.0662224\n",
      "time.struct_time(tm_year=2025, tm_mon=5, tm_mday=17, tm_hour=21, tm_min=47, tm_sec=22, tm_wday=5, tm_yday=137, tm_isdst=0)\n",
      "Year:  2025\n",
      "Sat May 17 21:47:22 2025\n"
     ]
    }
   ],
   "source": [
    "# Epoch time = Seconds that have passed since January 1, 1970\n",
    "import time\n",
    " \n",
    "epc = time.time()\n",
    "print(epc) # Prints the epoch time\n",
    "\n",
    "local_time = time.localtime(epc) # Converts epoch time to something understandable\n",
    "print(local_time)\n",
    "\n",
    "print(\"Year: \", local_time.tm_year)\n",
    "print(time.ctime(epc))"
   ]
  },
  {
   "cell_type": "code",
   "execution_count": 12,
   "id": "ce729c69",
   "metadata": {},
   "outputs": [
    {
     "name": "stdout",
     "output_type": "stream",
     "text": [
      "File created successfully\n"
     ]
    }
   ],
   "source": [
    "# Creating and writing to a file\n",
    "\n",
    "from os import path\n",
    "\n",
    "def createFile(dest):\n",
    "    if not (path.isfile(dest)): # Only creates file if it doesn't exist\n",
    "        f = open(dest, 'w')\n",
    "        f.write(\"This is a test file.\\n Created by Python\")\n",
    "        f.close()\n",
    "\n",
    "dest = \"D:\\\\VS\\\\sample1.txt\" # also pass filename along with destination\n",
    "\n",
    "createFile(dest)\n",
    "print(\"File created successfully\")\n"
   ]
  }
 ],
 "metadata": {
  "kernelspec": {
   "display_name": "Python 3",
   "language": "python",
   "name": "python3"
  },
  "language_info": {
   "codemirror_mode": {
    "name": "ipython",
    "version": 3
   },
   "file_extension": ".py",
   "mimetype": "text/x-python",
   "name": "python",
   "nbconvert_exporter": "python",
   "pygments_lexer": "ipython3",
   "version": "3.13.2"
  }
 },
 "nbformat": 4,
 "nbformat_minor": 5
}
