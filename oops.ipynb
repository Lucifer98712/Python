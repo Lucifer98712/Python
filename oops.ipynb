{
 "cells": [
  {
   "cell_type": "markdown",
   "id": "84433d70",
   "metadata": {},
   "source": [
    "Arrays in python.\n",
    "Syntax: var=array(type code, [Elements])\n"
   ]
  },
  {
   "cell_type": "markdown",
   "id": "5118bdef",
   "metadata": {},
   "source": [
    "![alt text](<Screenshot 2025-05-07 132527.png>)"
   ]
  },
  {
   "cell_type": "code",
   "execution_count": 2,
   "id": "fedbecfe",
   "metadata": {},
   "outputs": [
    {
     "name": "stdout",
     "output_type": "stream",
     "text": [
      "array('i', [-1, 2, 3, 4, 5])\n"
     ]
    }
   ],
   "source": [
    "from array import *\n",
    "arr = array('i', [-1,2,3,4,5])\n",
    "print(arr)"
   ]
  },
  {
   "cell_type": "code",
   "execution_count": 3,
   "id": "2d778496",
   "metadata": {},
   "outputs": [
    {
     "name": "stdout",
     "output_type": "stream",
     "text": [
      "(1695674284400, 5)\n"
     ]
    }
   ],
   "source": [
    "print(arr.buffer_info())"
   ]
  },
  {
   "cell_type": "code",
   "execution_count": 4,
   "id": "0924dd66",
   "metadata": {},
   "outputs": [
    {
     "name": "stdout",
     "output_type": "stream",
     "text": [
      "array('i', [5, 4, 3, 2, -1])\n"
     ]
    }
   ],
   "source": [
    "arr.reverse()\n",
    "print(arr)"
   ]
  },
  {
   "cell_type": "code",
   "execution_count": 5,
   "id": "f42a7b8b",
   "metadata": {},
   "outputs": [
    {
     "name": "stdout",
     "output_type": "stream",
     "text": [
      "array('i', [5, 4, 3, 2, -1, 6])\n"
     ]
    }
   ],
   "source": [
    "arr.append(6)\n",
    "print(arr)"
   ]
  },
  {
   "cell_type": "code",
   "execution_count": 6,
   "id": "4e464295",
   "metadata": {},
   "outputs": [
    {
     "name": "stdout",
     "output_type": "stream",
     "text": [
      "array('i', [5, 3, 2, -1, 6])\n"
     ]
    }
   ],
   "source": [
    "arr.remove(4) # Removes first ocurrence of 4\n",
    "print(arr)"
   ]
  },
  {
   "cell_type": "code",
   "execution_count": 7,
   "id": "5ead402a",
   "metadata": {},
   "outputs": [
    {
     "name": "stdout",
     "output_type": "stream",
     "text": [
      "array('i', [5, 3, 2, -1, 6, 2])\n"
     ]
    }
   ],
   "source": [
    "arr.append(2)\n",
    "print(arr)"
   ]
  },
  {
   "cell_type": "code",
   "execution_count": 8,
   "id": "20870979",
   "metadata": {},
   "outputs": [
    {
     "name": "stdout",
     "output_type": "stream",
     "text": [
      "2\n"
     ]
    }
   ],
   "source": [
    "print(arr.index(2)) # Returns the index of first ocurrence of 2"
   ]
  },
  {
   "cell_type": "code",
   "execution_count": 9,
   "id": "8bc25f36",
   "metadata": {},
   "outputs": [
    {
     "name": "stdout",
     "output_type": "stream",
     "text": [
      "Enter 4 elements: \n",
      "array('i', [1, 2, 3, 4])\n"
     ]
    }
   ],
   "source": [
    "arr1 = array('i')\n",
    "x = int(input(\"Enter the size of array: \"))\n",
    "print(\"Enter %d elements: \" %x)\n",
    "for i in range(x):\n",
    "    n = int(input())\n",
    "    arr1.append(n)\n",
    "print(arr1)    "
   ]
  }
 ],
 "metadata": {
  "kernelspec": {
   "display_name": "Python 3",
   "language": "python",
   "name": "python3"
  },
  "language_info": {
   "codemirror_mode": {
    "name": "ipython",
    "version": 3
   },
   "file_extension": ".py",
   "mimetype": "text/x-python",
   "name": "python",
   "nbconvert_exporter": "python",
   "pygments_lexer": "ipython3",
   "version": "3.13.2"
  }
 },
 "nbformat": 4,
 "nbformat_minor": 5
}
