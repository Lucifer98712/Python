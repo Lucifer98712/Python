{
 "cells": [
  {
   "cell_type": "markdown",
   "id": "ed03fc74",
   "metadata": {},
   "source": [
    "Inheritance : It's a mechanism for a new class to use features of another class. "
   ]
  },
  {
   "cell_type": "code",
   "execution_count": 11,
   "id": "0bc6c0a1",
   "metadata": {},
   "outputs": [
    {
     "name": "stdout",
     "output_type": "stream",
     "text": [
      "String is used to play Guitar\n",
      "String is used to play Piano\n",
      "Key is used to play Piano\n"
     ]
    }
   ],
   "source": [
    "class Instrument:\n",
    "    def __init__(self, name, t):\n",
    "        self.name = name\n",
    "        self.t = t\n",
    "\n",
    "    def display(self):\n",
    "        print(self.t + \" is used to play \" + self.name)\n",
    "\n",
    "ins1 = Instrument(\"Guitar\", \"String\")\n",
    "ins1.display()\n",
    "\n",
    "class Guitar(Instrument):\n",
    "    def setType(self, t):\n",
    "        self.t = t\n",
    "\n",
    "class Piano(Instrument):\n",
    "    def setType(self, t):\n",
    "        self.t = t\n",
    "\n",
    "ins2 = Piano(\"Piano\", \"String\")\n",
    "ins2.display()\n",
    "ins2.setType(\"Key\")\n",
    "ins2.display()"
   ]
  },
  {
   "cell_type": "markdown",
   "id": "52dc7a82",
   "metadata": {},
   "source": [
    "Encapsulation: Preventing data from direct access."
   ]
  },
  {
   "cell_type": "code",
   "execution_count": null,
   "id": "1814bd4d",
   "metadata": {},
   "outputs": [
    {
     "name": "stdout",
     "output_type": "stream",
     "text": [
      "SuperCar = 320 km/hr\n"
     ]
    }
   ],
   "source": [
    "# E.g.:\n",
    "class Car:\n",
    "    def __init__(self, type, speed):\n",
    "        self.type = type\n",
    "        self.speed = speed\n",
    "\n",
    "    def display(self):\n",
    "        print(self.type + \" = \" + str(self.speed) + \" km/hr\")\n",
    "\n",
    "SuperCar = Car(\"SuperCar\", 320) # Everything encapsulated in the class\n",
    "SuperCar.display()"
   ]
  },
  {
   "cell_type": "markdown",
   "id": "269c71bf",
   "metadata": {},
   "source": [
    "Polymorphism: Using the same function in multiple ways."
   ]
  },
  {
   "cell_type": "code",
   "execution_count": 14,
   "id": "ee04be71",
   "metadata": {},
   "outputs": [
    {
     "name": "stdout",
     "output_type": "stream",
     "text": [
      "SUV has speed of 200 km/hr\n"
     ]
    }
   ],
   "source": [
    "class SUV(Car):\n",
    "    def display(self):\n",
    "        print(self.type + \" has speed of \" + str(self.speed) + \" km/hr\")\n",
    "\n",
    "Suv = SUV(\"SUV\", 200)\n",
    "Suv.display()"
   ]
  }
 ],
 "metadata": {
  "kernelspec": {
   "display_name": "Python 3",
   "language": "python",
   "name": "python3"
  },
  "language_info": {
   "codemirror_mode": {
    "name": "ipython",
    "version": 3
   },
   "file_extension": ".py",
   "mimetype": "text/x-python",
   "name": "python",
   "nbconvert_exporter": "python",
   "pygments_lexer": "ipython3",
   "version": "3.13.2"
  }
 },
 "nbformat": 4,
 "nbformat_minor": 5
}
