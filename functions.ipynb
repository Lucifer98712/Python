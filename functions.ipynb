{
 "cells": [
  {
   "cell_type": "markdown",
   "id": "61cb998d",
   "metadata": {},
   "source": [
    "Function:\n",
    "\n",
    "A set of code that completes a particular task."
   ]
  },
  {
   "cell_type": "code",
   "execution_count": 5,
   "id": "e215cf28",
   "metadata": {},
   "outputs": [
    {
     "name": "stdout",
     "output_type": "stream",
     "text": [
      "a:4   b:3   total:7\n",
      "a:5   b:7   total:12\n"
     ]
    }
   ],
   "source": [
    "def sum(b,a):\n",
    "    total = a + b\n",
    "    print(\"a:%d   b:%d   total:%d\" %(a,b,total))\n",
    "\n",
    "sum(3,4) \n",
    "sum(a=5, b=7) # We can also do this. Parameters will be assigned by name\n",
    "#sum(10) # Throw error due to missing parameter"
   ]
  },
  {
   "cell_type": "code",
   "execution_count": 6,
   "id": "94466e5e",
   "metadata": {},
   "outputs": [
    {
     "name": "stdout",
     "output_type": "stream",
     "text": [
      "a:0   b:10   total:10\n"
     ]
    }
   ],
   "source": [
    "# function with default values\n",
    "def sum(b=0,a=0):\n",
    "    total = a + b\n",
    "    print(\"a:%d   b:%d   total:%d\" %(a,b,total))\n",
    "\n",
    "sum(10)"
   ]
  },
  {
   "cell_type": "code",
   "execution_count": 8,
   "id": "3601d093",
   "metadata": {},
   "outputs": [
    {
     "name": "stdout",
     "output_type": "stream",
     "text": [
      "Total: 110\n",
      "Total: 99\n"
     ]
    }
   ],
   "source": [
    "# function that takes list as parameter\n",
    "def sum(*a):\n",
    "    total = 0\n",
    "    for i in a:\n",
    "        total += i\n",
    "    print(\"Total: %d\" %total)    \n",
    "\n",
    "sum(10,20,30,50)\n",
    "sum(99)\n"
   ]
  }
 ],
 "metadata": {
  "kernelspec": {
   "display_name": "Python 3",
   "language": "python",
   "name": "python3"
  },
  "language_info": {
   "codemirror_mode": {
    "name": "ipython",
    "version": 3
   },
   "file_extension": ".py",
   "mimetype": "text/x-python",
   "name": "python",
   "nbconvert_exporter": "python",
   "pygments_lexer": "ipython3",
   "version": "3.13.2"
  }
 },
 "nbformat": 4,
 "nbformat_minor": 5
}
