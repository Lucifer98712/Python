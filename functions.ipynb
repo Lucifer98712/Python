{
 "cells": [
  {
   "cell_type": "markdown",
   "id": "61cb998d",
   "metadata": {},
   "source": [
    "Function:\n",
    "\n",
    "A set of code that completes a particular task."
   ]
  },
  {
   "cell_type": "code",
   "execution_count": 5,
   "id": "e215cf28",
   "metadata": {},
   "outputs": [
    {
     "name": "stdout",
     "output_type": "stream",
     "text": [
      "a:4   b:3   total:7\n",
      "a:5   b:7   total:12\n"
     ]
    }
   ],
   "source": [
    "def sum(b,a):\n",
    "    total = a + b\n",
    "    print(\"a:%d   b:%d   total:%d\" %(a,b,total))\n",
    "\n",
    "sum(3,4) \n",
    "sum(a=5, b=7) # We can also do this. Parameters will be assigned by name\n",
    "#sum(10) # Throw error due to missing parameter"
   ]
  },
  {
   "cell_type": "code",
   "execution_count": 6,
   "id": "94466e5e",
   "metadata": {},
   "outputs": [
    {
     "name": "stdout",
     "output_type": "stream",
     "text": [
      "a:0   b:10   total:10\n"
     ]
    }
   ],
   "source": [
    "# function with default values\n",
    "def sum(b=0,a=0):\n",
    "    total = a + b\n",
    "    print(\"a:%d   b:%d   total:%d\" %(a,b,total))\n",
    "\n",
    "sum(10)"
   ]
  },
  {
   "cell_type": "code",
   "execution_count": 8,
   "id": "3601d093",
   "metadata": {},
   "outputs": [
    {
     "name": "stdout",
     "output_type": "stream",
     "text": [
      "Total: 110\n",
      "Total: 99\n"
     ]
    }
   ],
   "source": [
    "# function that takes list as parameter\n",
    "def sum(*a):\n",
    "    total = 0\n",
    "    for i in a:\n",
    "        total += i\n",
    "    print(\"Total: %d\" %total)    \n",
    "\n",
    "sum(10,20,30,50)\n",
    "sum(99)\n"
   ]
  },
  {
   "cell_type": "code",
   "execution_count": 4,
   "id": "6f825369",
   "metadata": {},
   "outputs": [
    {
     "name": "stdout",
     "output_type": "stream",
     "text": [
      "args:  (29, 33, 10, 42)\n",
      "29\n",
      "33\n",
      "10\n",
      "42\n",
      "args:  (10, 20, 'abcd', 3.14, True, (4+7j))\n",
      "10\n",
      "20\n",
      "abcd\n",
      "3.14\n",
      "True\n",
      "(4+7j)\n"
     ]
    }
   ],
   "source": [
    "# Function that takes in any number of parameters\n",
    "\n",
    "def func1(*args):\n",
    "    print(\"args: \", args)\n",
    "    for i in args:\n",
    "        print(i)\n",
    "\n",
    "func1(29,33,10,42)\n",
    "func1(10,20,'abcd', 3.14, True, 4+7j) # Can even give different types of arguments\n",
    "# func1(a=2,b=3,c=4)"
   ]
  },
  {
   "cell_type": "code",
   "execution_count": 5,
   "id": "d3c6422f",
   "metadata": {},
   "outputs": [
    {
     "name": "stdout",
     "output_type": "stream",
     "text": [
      "args:  (10, 20)\n",
      "kwargs:  {'a': 2, 'b': 3, 'c': 4}\n",
      "('a', 2)\n",
      "('b', 3)\n",
      "('c', 4)\n"
     ]
    }
   ],
   "source": [
    "def func2(*args, **kwargs): # args is for the varying part and kwargs is for the label part\n",
    "    print(\"args: \", args)\n",
    "    print(\"kwargs: \", kwargs)\n",
    "    for i in kwargs.items():\n",
    "        print(i)\n",
    "\n",
    "func2(10,20,a=2,b=3,c=4)"
   ]
  },
  {
   "cell_type": "markdown",
   "id": "168660b9",
   "metadata": {},
   "source": [
    "Nested functions in python"
   ]
  },
  {
   "cell_type": "code",
   "execution_count": 7,
   "id": "03b336e7",
   "metadata": {},
   "outputs": [
    {
     "name": "stdout",
     "output_type": "stream",
     "text": [
      "14\n"
     ]
    }
   ],
   "source": [
    "def func1():\n",
    "    x=13\n",
    "    def func2(x):\n",
    "        return x+1\n",
    "    return func2(x)\n",
    "\n",
    "result = func1()\n",
    "print(result)"
   ]
  },
  {
   "cell_type": "code",
   "execution_count": 15,
   "id": "f43d91ba",
   "metadata": {},
   "outputs": [
    {
     "name": "stdout",
     "output_type": "stream",
     "text": [
      "This is first function\n",
      "This is nested function\n",
      "This is outer function\n"
     ]
    }
   ],
   "source": [
    "# Some more examples\n",
    "def func1(called_func):\n",
    "    print(\"This is first function\")\n",
    "    def nested_func(called_func):\n",
    "        print(\"This is nested function\")\n",
    "        called_func()\n",
    "    return nested_func(called_func)\n",
    "\n",
    "def outer_func():\n",
    "    print(\"This is outer function\")\n",
    "\n",
    "obj=func1(outer_func)            "
   ]
  }
 ],
 "metadata": {
  "kernelspec": {
   "display_name": "Python 3",
   "language": "python",
   "name": "python3"
  },
  "language_info": {
   "codemirror_mode": {
    "name": "ipython",
    "version": 3
   },
   "file_extension": ".py",
   "mimetype": "text/x-python",
   "name": "python",
   "nbconvert_exporter": "python",
   "pygments_lexer": "ipython3",
   "version": "3.13.2"
  }
 },
 "nbformat": 4,
 "nbformat_minor": 5
}
