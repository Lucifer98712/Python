{
 "cells": [
  {
   "cell_type": "markdown",
   "id": "c752b592",
   "metadata": {},
   "source": [
    "iii) Scipy(Scientinfic Python): Extensibly used in data science for high level computation. Used for scientific and technical computation. It's based on the numpy extension of python."
   ]
  },
  {
   "cell_type": "code",
   "execution_count": 2,
   "id": "b5abca69",
   "metadata": {},
   "outputs": [
    {
     "name": "stdout",
     "output_type": "stream",
     "text": [
      "299792458.0\n",
      "9.80665\n",
      "3.141592653589793\n",
      "6.62607015e-34\n"
     ]
    }
   ],
   "source": [
    "# eg import constant package from scipy\n",
    "from scipy import constants\n",
    "print(constants.c) # speed of light\n",
    "print(constants.g) # acceleration due to gravity\n",
    "print(constants.pi)\n",
    "print(constants.h) # Planck's constant"
   ]
  },
  {
   "cell_type": "markdown",
   "id": "7ada2fb6",
   "metadata": {},
   "source": [
    "iv) Pandas(Python Data Analysis): Most famous library for data science. Heavily used for data analysis and cleaning. "
   ]
  },
  {
   "cell_type": "code",
   "execution_count": 9,
   "id": "b3e5df8e",
   "metadata": {},
   "outputs": [
    {
     "data": {
      "text/html": [
       "<div>\n",
       "<style scoped>\n",
       "    .dataframe tbody tr th:only-of-type {\n",
       "        vertical-align: middle;\n",
       "    }\n",
       "\n",
       "    .dataframe tbody tr th {\n",
       "        vertical-align: top;\n",
       "    }\n",
       "\n",
       "    .dataframe thead th {\n",
       "        text-align: right;\n",
       "    }\n",
       "</style>\n",
       "<table border=\"1\" class=\"dataframe\">\n",
       "  <thead>\n",
       "    <tr style=\"text-align: right;\">\n",
       "      <th></th>\n",
       "      <th>A</th>\n",
       "      <th>B</th>\n",
       "      <th>C</th>\n",
       "      <th>D</th>\n",
       "    </tr>\n",
       "  </thead>\n",
       "  <tbody>\n",
       "    <tr>\n",
       "      <th>0</th>\n",
       "      <td>-1.265929</td>\n",
       "      <td>1.732563</td>\n",
       "      <td>-1.254109</td>\n",
       "      <td>-0.699255</td>\n",
       "    </tr>\n",
       "    <tr>\n",
       "      <th>1</th>\n",
       "      <td>-0.032351</td>\n",
       "      <td>-0.834600</td>\n",
       "      <td>0.014590</td>\n",
       "      <td>-0.800815</td>\n",
       "    </tr>\n",
       "    <tr>\n",
       "      <th>2</th>\n",
       "      <td>3.298439</td>\n",
       "      <td>1.561857</td>\n",
       "      <td>0.354962</td>\n",
       "      <td>1.039301</td>\n",
       "    </tr>\n",
       "    <tr>\n",
       "      <th>3</th>\n",
       "      <td>-0.255947</td>\n",
       "      <td>-1.062537</td>\n",
       "      <td>-0.072166</td>\n",
       "      <td>0.881728</td>\n",
       "    </tr>\n",
       "    <tr>\n",
       "      <th>4</th>\n",
       "      <td>-0.291847</td>\n",
       "      <td>-0.295704</td>\n",
       "      <td>-1.021565</td>\n",
       "      <td>0.662835</td>\n",
       "    </tr>\n",
       "    <tr>\n",
       "      <th>5</th>\n",
       "      <td>0.315445</td>\n",
       "      <td>1.054441</td>\n",
       "      <td>-0.488776</td>\n",
       "      <td>-0.682353</td>\n",
       "    </tr>\n",
       "  </tbody>\n",
       "</table>\n",
       "</div>"
      ],
      "text/plain": [
       "          A         B         C         D\n",
       "0 -1.265929  1.732563 -1.254109 -0.699255\n",
       "1 -0.032351 -0.834600  0.014590 -0.800815\n",
       "2  3.298439  1.561857  0.354962  1.039301\n",
       "3 -0.255947 -1.062537 -0.072166  0.881728\n",
       "4 -0.291847 -0.295704 -1.021565  0.662835\n",
       "5  0.315445  1.054441 -0.488776 -0.682353"
      ]
     },
     "execution_count": 9,
     "metadata": {},
     "output_type": "execute_result"
    }
   ],
   "source": [
    "import pandas as pd\n",
    "import numpy as np\n",
    "df = pd.DataFrame(np.random.randn(6,4), index=list(range(6)), columns=list('ABCD'))\n",
    "df"
   ]
  },
  {
   "cell_type": "code",
   "execution_count": 10,
   "id": "7343f483",
   "metadata": {},
   "outputs": [
    {
     "data": {
      "text/html": [
       "<div>\n",
       "<style scoped>\n",
       "    .dataframe tbody tr th:only-of-type {\n",
       "        vertical-align: middle;\n",
       "    }\n",
       "\n",
       "    .dataframe tbody tr th {\n",
       "        vertical-align: top;\n",
       "    }\n",
       "\n",
       "    .dataframe thead th {\n",
       "        text-align: right;\n",
       "    }\n",
       "</style>\n",
       "<table border=\"1\" class=\"dataframe\">\n",
       "  <thead>\n",
       "    <tr style=\"text-align: right;\">\n",
       "      <th></th>\n",
       "      <th>A</th>\n",
       "      <th>B</th>\n",
       "      <th>C</th>\n",
       "      <th>D</th>\n",
       "    </tr>\n",
       "  </thead>\n",
       "  <tbody>\n",
       "    <tr>\n",
       "      <th>count</th>\n",
       "      <td>6.000000</td>\n",
       "      <td>6.000000</td>\n",
       "      <td>6.000000</td>\n",
       "      <td>6.000000</td>\n",
       "    </tr>\n",
       "    <tr>\n",
       "      <th>mean</th>\n",
       "      <td>0.294635</td>\n",
       "      <td>0.359337</td>\n",
       "      <td>-0.411177</td>\n",
       "      <td>0.066907</td>\n",
       "    </tr>\n",
       "    <tr>\n",
       "      <th>std</th>\n",
       "      <td>1.562860</td>\n",
       "      <td>1.240263</td>\n",
       "      <td>0.628061</td>\n",
       "      <td>0.879312</td>\n",
       "    </tr>\n",
       "    <tr>\n",
       "      <th>min</th>\n",
       "      <td>-1.265929</td>\n",
       "      <td>-1.062537</td>\n",
       "      <td>-1.254109</td>\n",
       "      <td>-0.800815</td>\n",
       "    </tr>\n",
       "    <tr>\n",
       "      <th>25%</th>\n",
       "      <td>-0.282872</td>\n",
       "      <td>-0.699876</td>\n",
       "      <td>-0.888367</td>\n",
       "      <td>-0.695030</td>\n",
       "    </tr>\n",
       "    <tr>\n",
       "      <th>50%</th>\n",
       "      <td>-0.144149</td>\n",
       "      <td>0.379369</td>\n",
       "      <td>-0.280471</td>\n",
       "      <td>-0.009759</td>\n",
       "    </tr>\n",
       "    <tr>\n",
       "      <th>75%</th>\n",
       "      <td>0.228496</td>\n",
       "      <td>1.435003</td>\n",
       "      <td>-0.007099</td>\n",
       "      <td>0.827005</td>\n",
       "    </tr>\n",
       "    <tr>\n",
       "      <th>max</th>\n",
       "      <td>3.298439</td>\n",
       "      <td>1.732563</td>\n",
       "      <td>0.354962</td>\n",
       "      <td>1.039301</td>\n",
       "    </tr>\n",
       "  </tbody>\n",
       "</table>\n",
       "</div>"
      ],
      "text/plain": [
       "              A         B         C         D\n",
       "count  6.000000  6.000000  6.000000  6.000000\n",
       "mean   0.294635  0.359337 -0.411177  0.066907\n",
       "std    1.562860  1.240263  0.628061  0.879312\n",
       "min   -1.265929 -1.062537 -1.254109 -0.800815\n",
       "25%   -0.282872 -0.699876 -0.888367 -0.695030\n",
       "50%   -0.144149  0.379369 -0.280471 -0.009759\n",
       "75%    0.228496  1.435003 -0.007099  0.827005\n",
       "max    3.298439  1.732563  0.354962  1.039301"
      ]
     },
     "execution_count": 10,
     "metadata": {},
     "output_type": "execute_result"
    }
   ],
   "source": [
    "df.describe()"
   ]
  },
  {
   "cell_type": "markdown",
   "id": "ceda8d89",
   "metadata": {},
   "source": [
    "v) Matplotlib: Used for data visualization. It provides an object-oriented API for embedding plots into applications"
   ]
  },
  {
   "cell_type": "code",
   "execution_count": 5,
   "id": "0fd204a1",
   "metadata": {},
   "outputs": [
    {
     "data": {
      "image/png": "[encoded data removed]",
      "text/plain": [
       "<Figure size 640x480 with 1 Axes>"
      ]
     },
     "metadata": {},
     "output_type": "display_data"
    }
   ],
   "source": [
    "import numpy as np\n",
    "import matplotlib.pyplot as plt\n",
    "%matplotlib inline\n",
    "\n",
    "np.random.seed(10)\n",
    "\n",
    "N=30\n",
    "x = np.random.rand(N)\n",
    "y = np.random.rand(N)\n",
    "colors = np.random.rand(N)\n",
    "\n",
    "area = (30*np.random.rand(N))**2\n",
    "plt.scatter(x, y, s=area, c=colors, alpha = 0.4)\n",
    "plt.show()"
   ]
  },
  {
   "cell_type": "code",
   "execution_count": 8,
   "id": "e8d4e3a3",
   "metadata": {},
   "outputs": [
    {
     "data": {
      "text/plain": [
       "Text(0, 0.5, 'Y-asix')"
      ]
     },
     "execution_count": 8,
     "metadata": {},
     "output_type": "execute_result"
    },
    {
     "data": {
      "image/png": "[encoded data removed]",
      "text/plain": [
       "<Figure size 640x480 with 1 Axes>"
      ]
     },
     "metadata": {},
     "output_type": "display_data"
    }
   ],
   "source": [
    "from matplotlib import style\n",
    "style.use('ggplot')\n",
    "\n",
    "x=[2,4,6]\n",
    "y=[12,14,16]\n",
    "\n",
    "x2=[3,5,7]\n",
    "y2=[13,15,14]\n",
    "\n",
    "plt.bar(x, y, color='b', align='center')\n",
    "plt.bar(x2, y2, color='r', align='center')\n",
    "\n",
    "plt.title('Histogram')\n",
    "plt.xlabel('X-axis')\n",
    "plt.ylabel('Y-asix')\n"
   ]
  }
 ],
 "metadata": {
  "kernelspec": {
   "display_name": "Python 3",
   "language": "python",
   "name": "python3"
  },
  "language_info": {
   "codemirror_mode": {
    "name": "ipython",
    "version": 3
   },
   "file_extension": ".py",
   "mimetype": "text/x-python",
   "name": "python",
   "nbconvert_exporter": "python",
   "pygments_lexer": "ipython3",
   "version": "3.13.2"
  }
 },
 "nbformat": 4,
 "nbformat_minor": 5
}
