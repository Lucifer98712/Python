{
 "cells": [
  {
   "cell_type": "markdown",
   "id": "b69f1112",
   "metadata": {},
   "source": [
    "Multithreading: A model where multiple threads within a process execute independently while sharing the same resources is called multithreading."
   ]
  },
  {
   "cell_type": "code",
   "execution_count": 14,
   "id": "dfacd40f",
   "metadata": {},
   "outputs": [
    {
     "name": "stdout",
     "output_type": "stream",
     "text": [
      "Number:  1\n",
      "Double:  2\n",
      "Square:  1\n",
      "Number:  2\n",
      "Double:  4\n",
      "Square:  4\n",
      "Number:  3\n",
      "Double:  6\n",
      "Square:  9\n",
      "Number:  4\n",
      "Double:  8\n",
      "Square:  16\n",
      "Number:  5\n",
      "Double:  10\n",
      "Square:  25\n",
      "Main thread\n"
     ]
    }
   ],
   "source": [
    "# Can use time.sleep function to make the program run how we like\n",
    "from threading import *\n",
    "import time\n",
    "\n",
    "class Demo:\n",
    "    def num(self):\n",
    "        for i in range(1,6):\n",
    "            print(\"Number: \", i)\n",
    "            time.sleep(0.05)\n",
    "\n",
    "    def double(self):\n",
    "        for i in range(1,6):\n",
    "            print(\"Double: \", i*2)\n",
    "            time.sleep(0.05)\n",
    "\n",
    "    def square(self):\n",
    "        for i in range(1,6):\n",
    "            print(\"Square: \", i*i)\n",
    "            time.sleep(0.05)\n",
    "\n",
    "# Create a thread for each method\n",
    "obj = Demo()\n",
    "t1 = Thread(target=obj.num)\n",
    "t2 = Thread(target=obj.double)\n",
    "t3 = Thread(target=obj.square)\n",
    "\n",
    "t1.start()\n",
    "time.sleep(0.02)\n",
    "t2.start()\n",
    "time.sleep(0.02)\n",
    "t3.start()\n",
    "\n",
    "t1.join()\n",
    "t2.join()\n",
    "t3.join()\n",
    "\n",
    "print(\"Main thread\")\n"
   ]
  }
 ],
 "metadata": {
  "kernelspec": {
   "display_name": "Python 3",
   "language": "python",
   "name": "python3"
  },
  "language_info": {
   "codemirror_mode": {
    "name": "ipython",
    "version": 3
   },
   "file_extension": ".py",
   "mimetype": "text/x-python",
   "name": "python",
   "nbconvert_exporter": "python",
   "pygments_lexer": "ipython3",
   "version": "3.13.2"
  }
 },
 "nbformat": 4,
 "nbformat_minor": 5
}
