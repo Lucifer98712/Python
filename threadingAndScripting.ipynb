{
 "cells": [
  {
   "cell_type": "markdown",
   "id": "fb2512fb",
   "metadata": {},
   "source": [
    "Process: A process is an executable instance of a computer program."
   ]
  },
  {
   "cell_type": "markdown",
   "id": "e3427890",
   "metadata": {},
   "source": [
    "A thread runs within a process."
   ]
  },
  {
   "cell_type": "markdown",
   "id": "e0f80f94",
   "metadata": {},
   "source": [
    "Thread: A thread is a sequence of instruction in a program that can be executed independently of the remaining program. "
   ]
  },
  {
   "cell_type": "code",
   "execution_count": 15,
   "id": "e3c1149e",
   "metadata": {},
   "outputs": [
    {
     "name": "stdout",
     "output_type": "stream",
     "text": [
      "Worker thread is running\n",
      "Main thread is running\n"
     ]
    }
   ],
   "source": [
    "from threading import *\n",
    "def worker():\n",
    "    print(\"Worker thread is running\")\n",
    "t = Thread(target=worker())\n",
    "print(\"Main thread is running\")    "
   ]
  },
  {
   "cell_type": "code",
   "execution_count": 41,
   "id": "4608683d",
   "metadata": {},
   "outputs": [
    {
     "name": "stdout",
     "output_type": "stream",
     "text": [
      "Child thread is runningMain thread is running\n",
      "Main thread is running\n",
      "Main thread is running\n",
      "Main thread is running\n",
      "Main thread is running\n",
      "\n",
      "Child thread is running\n",
      "Child thread is running\n",
      "Child thread is running\n",
      "Child thread is running\n"
     ]
    }
   ],
   "source": [
    "class MyThread(Thread):\n",
    "    def run(self):\n",
    "        for i in range(5):\n",
    "            print(\"Child thread is running\")\n",
    "t1 = MyThread()\n",
    "t1.start()\n",
    "for i in range(5):\n",
    "    print(\"Main thread is running\")"
   ]
  },
  {
   "cell_type": "code",
   "execution_count": 46,
   "id": "e5481f1f",
   "metadata": {},
   "outputs": [
    {
     "name": "stdout",
     "output_type": "stream",
     "text": [
      "Child thread is running\n",
      "Child thread is running\n",
      "Child thread is running\n",
      "Child thread is running\n",
      "Child thread is running\n",
      "Main thread is running\n",
      "Main thread is running\n",
      "Main thread is running\n",
      "Main thread is running\n",
      "Main thread is running\n"
     ]
    }
   ],
   "source": [
    "#Another way\n",
    "class Demo:\n",
    "    def show(self):\n",
    "        for i in range(5):\n",
    "            print(\"Child thread is running\")\n",
    "obj = Demo()\n",
    "t2 = Thread(target=obj.show())\n",
    "t2.start()\n",
    "for i in range(5):\n",
    "    print(\"Main thread is running\")            "
   ]
  },
  {
   "cell_type": "markdown",
   "id": "f3d000dc",
   "metadata": {},
   "source": [
    "Context Switching: Storing the state of a process or thread and resuming its execution at a later time is called context switching."
   ]
  }
 ],
 "metadata": {
  "kernelspec": {
   "display_name": "Python 3",
   "language": "python",
   "name": "python3"
  },
  "language_info": {
   "codemirror_mode": {
    "name": "ipython",
    "version": 3
   },
   "file_extension": ".py",
   "mimetype": "text/x-python",
   "name": "python",
   "nbconvert_exporter": "python",
   "pygments_lexer": "ipython3",
   "version": "3.13.2"
  }
 },
 "nbformat": 4,
 "nbformat_minor": 5
}
