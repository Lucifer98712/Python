{
 "cells": [
  {
   "cell_type": "markdown",
   "metadata": {},
   "source": [
    "String = A collection of characters"
   ]
  },
  {
   "cell_type": "code",
   "execution_count": 4,
   "metadata": {},
   "outputs": [
    {
     "ename": "SyntaxError",
     "evalue": "invalid syntax (2701619364.py, line 4)",
     "output_type": "error",
     "traceback": [
      "\u001b[1;36m  Cell \u001b[1;32mIn[4], line 4\u001b[1;36m\u001b[0m\n\u001b[1;33m    error1 = \"Harry said, \"I am a wizard\".\" # This will give error\u001b[0m\n\u001b[1;37m                           ^\u001b[0m\n\u001b[1;31mSyntaxError\u001b[0m\u001b[1;31m:\u001b[0m invalid syntax\n"
     ]
    }
   ],
   "source": [
    "# When to use double and single quotes\n",
    "# Single quotes better to use when string contains double quotes within them\n",
    " \n",
    "error1 = \"Harry said, \"I am a wizard\".\" # This will give error\n",
    "correct1 = 'Harry said, \"I am a wizard\"'"
   ]
  },
  {
   "cell_type": "code",
   "execution_count": 5,
   "metadata": {},
   "outputs": [
    {
     "ename": "SyntaxError",
     "evalue": "unterminated string literal (detected at line 3) (3711914933.py, line 3)",
     "output_type": "error",
     "traceback": [
      "\u001b[1;36m  Cell \u001b[1;32mIn[5], line 3\u001b[1;36m\u001b[0m\n\u001b[1;33m    error2 = 'He's in the balcony.' # This will give error\u001b[0m\n\u001b[1;37m                                  ^\u001b[0m\n\u001b[1;31mSyntaxError\u001b[0m\u001b[1;31m:\u001b[0m unterminated string literal (detected at line 3)\n"
     ]
    }
   ],
   "source": [
    "# Double quotes better to use when string contains single quotes within them\n",
    " \n",
    "error2 = 'He's in the balcony.' # This will give error\n",
    "correct2 = \"He's in the balcony.\""
   ]
  },
  {
   "cell_type": "code",
   "execution_count": 6,
   "metadata": {},
   "outputs": [
    {
     "name": "stdout",
     "output_type": "stream",
     "text": [
      "Harry said, \"I'am a wizard\"\n"
     ]
    }
   ],
   "source": [
    "# When string has both double and single quote\n",
    "# Use escape character i.e. \\\n",
    "correct3 = 'Harry said, \"I\\'am a wizard\"'\n",
    "print(correct3) "
   ]
  },
  {
   "cell_type": "code",
   "execution_count": 8,
   "metadata": {},
   "outputs": [
    {
     "name": "stdout",
     "output_type": "stream",
     "text": [
      "Hello\n",
      "Nice to meet you\n"
     ]
    }
   ],
   "source": [
    "# To write a string in multiple lines\n",
    "# Either use triple single quotes or double quotes\n",
    "# error4 = 'Hello\n",
    "# Nice to meet you'\n",
    "correct4 = '''Hello\n",
    "Nice to meet you'''\n",
    "print(correct4)"
   ]
  },
  {
   "cell_type": "code",
   "execution_count": 9,
   "metadata": {},
   "outputs": [
    {
     "name": "stdout",
     "output_type": "stream",
     "text": [
      "22\n"
     ]
    }
   ],
   "source": [
    "# len\n",
    "strLen = len(correct4)\n",
    "print(strLen)"
   ]
  },
  {
   "cell_type": "code",
   "execution_count": 10,
   "metadata": {},
   "outputs": [
    {
     "data": {
      "text/plain": [
       "'n'"
      ]
     },
     "execution_count": 10,
     "metadata": {},
     "output_type": "execute_result"
    }
   ],
   "source": [
    "# Index \n",
    "stg = \"Training\"\n",
    "stg[4]"
   ]
  },
  {
   "cell_type": "code",
   "execution_count": 11,
   "metadata": {},
   "outputs": [
    {
     "name": "stdout",
     "output_type": "stream",
     "text": [
      "T\n",
      "r\n",
      "a\n",
      "i\n",
      "n\n",
      "i\n",
      "n\n",
      "g\n"
     ]
    }
   ],
   "source": [
    "# to print all\n",
    "for i in stg:\n",
    "    print(i)"
   ]
  },
  {
   "cell_type": "code",
   "execution_count": 14,
   "metadata": {},
   "outputs": [
    {
     "name": "stdout",
     "output_type": "stream",
     "text": [
      "Training"
     ]
    }
   ],
   "source": [
    "# to print all through loop\n",
    "for i in stg:\n",
    "    print(i, end='')"
   ]
  },
  {
   "cell_type": "code",
   "execution_count": 18,
   "metadata": {},
   "outputs": [
    {
     "name": "stdout",
     "output_type": "stream",
     "text": [
      "Trai\n",
      "ning\n",
      "Tann\n",
      "gniniarT\n"
     ]
    }
   ],
   "source": [
    "# Slicing in string\n",
    "print(stg[:4])\n",
    "print(stg[4:])\n",
    "print(stg[::2])\n",
    "print(stg[::-1])"
   ]
  },
  {
   "cell_type": "markdown",
   "metadata": {},
   "source": [
    "Built-in function in python for strings"
   ]
  },
  {
   "cell_type": "code",
   "execution_count": 20,
   "metadata": {},
   "outputs": [
    {
     "name": "stdout",
     "output_type": "stream",
     "text": [
      "TRAINING\n",
      "training\n",
      "3\n",
      "3\n"
     ]
    }
   ],
   "source": [
    "# all uppercase\n",
    "print(stg.upper())\n",
    "# all lowercase\n",
    "print(stg.lower())\n",
    "# return the index of the first occurance of a character\n",
    "print(stg.find('i'))\n",
    "print(stg.index('i'))"
   ]
  },
  {
   "cell_type": "code",
   "execution_count": 26,
   "metadata": {},
   "outputs": [
    {
     "name": "stdout",
     "output_type": "stream",
     "text": [
      "['Tra', 'n', 'ng']\n",
      "['Train', 'hard', 'everyday']\n"
     ]
    }
   ],
   "source": [
    "# convert string to list using split\n",
    "print(stg.split('i')) # point where to split\n",
    "sent = \"Train hard everyday\"\n",
    "print(sent.split(' '))\n",
    "\n"
   ]
  },
  {
   "cell_type": "code",
   "execution_count": 27,
   "metadata": {},
   "outputs": [
    {
     "name": "stdout",
     "output_type": "stream",
     "text": [
      "Train smart everyday\n"
     ]
    }
   ],
   "source": [
    "# replace function\n",
    "print(sent.replace('hard', 'smart')) # replace hard with smart"
   ]
  },
  {
   "cell_type": "code",
   "execution_count": null,
   "metadata": {},
   "outputs": [
    {
     "name": "stdout",
     "output_type": "stream",
     "text": [
      "('Train', ' hard ', 'everyday')\n"
     ]
    }
   ],
   "source": [
    "# Convert string to tuple using rpartition\n",
    "print(sent.rpartition(' hard ')) # point where to split"
   ]
  },
  {
   "cell_type": "code",
   "execution_count": null,
   "metadata": {},
   "outputs": [
    {
     "name": "stdout",
     "output_type": "stream",
     "text": [
      "Training->Train hard everyday\n"
     ]
    }
   ],
   "source": [
    "# Easy concatenation of strings\n",
    "print(stg + \"->\" + sent) # feasible when using less strings with less formating"
   ]
  },
  {
   "cell_type": "code",
   "execution_count": 36,
   "metadata": {},
   "outputs": [
    {
     "name": "stdout",
     "output_type": "stream",
     "text": [
      "Hello, What's up People?\n"
     ]
    }
   ],
   "source": [
    "# Using format keyword\n",
    "s1 = \"Hello\"\n",
    "s2 = \"What's up\"\n",
    "s3 = \"People\"\n",
    "s4 = \"{}, {} {}?\".format(s1,s2,s3)\n",
    "print(s4)"
   ]
  }
 ],
 "metadata": {
  "kernelspec": {
   "display_name": "Python 3",
   "language": "python",
   "name": "python3"
  },
  "language_info": {
   "codemirror_mode": {
    "name": "ipython",
    "version": 3
   },
   "file_extension": ".py",
   "mimetype": "text/x-python",
   "name": "python",
   "nbconvert_exporter": "python",
   "pygments_lexer": "ipython3",
   "version": "3.13.2"
  }
 },
 "nbformat": 4,
 "nbformat_minor": 2
}
