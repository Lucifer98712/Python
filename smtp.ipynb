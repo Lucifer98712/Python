{
 "cells": [
  {
   "cell_type": "markdown",
   "id": "eeb93695",
   "metadata": {},
   "source": [
    "SMTP module in python: Simple Mail Transfer Protocol\n"
   ]
  },
  {
   "cell_type": "code",
   "execution_count": null,
   "id": "5a11c86e",
   "metadata": {},
   "outputs": [
    {
     "data": {
      "text/plain": [
       "(221,\n",
       " b'2.0.0 closing connection d2e1a72fcca58-742a96dfa19sm3985048b3a.22 - gsmtp')"
      ]
     },
     "execution_count": 4,
     "metadata": {},
     "output_type": "execute_result"
    }
   ],
   "source": [
    "# Sending email to someones email address through python\n",
    "# Obiously, python can't send an email out by itself\n",
    "# You need to set a domain and a port to send the email\n",
    "\n",
    "import smtplib\n",
    "\n",
    "smtObj = smtplib.SMTP('smtp.gmail.com', 587)\n",
    "smtObj.ehlo()\n",
    "smtObj.starttls()\n",
    "smtObj.login('email','password') # Sender email and password\n",
    "smtObj.sendmail('sender email','receiver email','Subject: SMTP test. \\n This is a test email')\n",
    "smtObj.quit()"
   ]
  }
 ],
 "metadata": {
  "kernelspec": {
   "display_name": "Python 3",
   "language": "python",
   "name": "python3"
  },
  "language_info": {
   "codemirror_mode": {
    "name": "ipython",
    "version": 3
   },
   "file_extension": ".py",
   "mimetype": "text/x-python",
   "name": "python",
   "nbconvert_exporter": "python",
   "pygments_lexer": "ipython3",
   "version": "3.13.2"
  }
 },
 "nbformat": 4,
 "nbformat_minor": 5
}
