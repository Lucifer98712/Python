{
 "cells": [
  {
   "cell_type": "markdown",
   "metadata": {},
   "source": [
    "Dictionaries are unordered collections of data stored as key and value pairs. Key is basically like an index. Key can be of string data type as well."
   ]
  },
  {
   "cell_type": "code",
   "execution_count": 1,
   "metadata": {},
   "outputs": [
    {
     "name": "stdout",
     "output_type": "stream",
     "text": [
      "{}\n"
     ]
    },
    {
     "data": {
      "text/plain": [
       "dict"
      ]
     },
     "execution_count": 1,
     "metadata": {},
     "output_type": "execute_result"
    }
   ],
   "source": [
    "dic1 = {}\n",
    "print(dic1)\n",
    "type(dic1)"
   ]
  },
  {
   "cell_type": "code",
   "execution_count": 2,
   "metadata": {},
   "outputs": [
    {
     "name": "stdout",
     "output_type": "stream",
     "text": [
      "{1: 'BMW', 2: 'Alpine', 3: 'Nissan', 4: 'Ford'}\n"
     ]
    }
   ],
   "source": [
    "# e.g.\n",
    "dic2 = {1: 'BMW', 2: 'Alpine', 3: 'Nissan', 4: 'Ford'}\n",
    "print(dic2)"
   ]
  },
  {
   "cell_type": "markdown",
   "metadata": {},
   "source": [
    "Difference between dictionaries and other sequences(lists & tuples): \n",
    "-->Key can be string also in dict"
   ]
  },
  {
   "cell_type": "code",
   "execution_count": 1,
   "metadata": {},
   "outputs": [
    {
     "name": "stdout",
     "output_type": "stream",
     "text": [
      "{'a': 'BMW', 'b': 'Alpine', 'c': 'Nissan', 'd': 'Ford'}\n"
     ]
    }
   ],
   "source": [
    "# e.g. using string as key\n",
    "dic3 = {'a': 'BMW', 'b': 'Alpine', 'c': 'Nissan', 'd': 'Ford'}\n",
    "print(dic3)"
   ]
  },
  {
   "cell_type": "code",
   "execution_count": 3,
   "metadata": {},
   "outputs": [
    {
     "name": "stdout",
     "output_type": "stream",
     "text": [
      "{'one': 'BMW', 2: 'Alpine', 3: 'Nissan', 4: 'Ford'}\n"
     ]
    }
   ],
   "source": [
    "# using dict() constructor   Syntax var=dict({})\n",
    "dic4 = dict([('one', 'BMW'), (2, 'Alpine'), (3, 'Nissan'), (4, 'Ford')])\n",
    "print(dic4)"
   ]
  },
  {
   "cell_type": "code",
   "execution_count": 4,
   "metadata": {},
   "outputs": [
    {
     "name": "stdout",
     "output_type": "stream",
     "text": [
      "{'name': {'first': 'Jack', 'Last': 'Sparrow'}, 'job': 'Pirate'}\n"
     ]
    }
   ],
   "source": [
    "# Nested dictionaries\n",
    "dic5 = {'name': {'first': 'Jack', 'Last': 'Sparrow'}, 'job': 'Pirate'}\n",
    "print(dic5)"
   ]
  },
  {
   "cell_type": "markdown",
   "metadata": {},
   "source": [
    "Adding elements to dictionaries"
   ]
  },
  {
   "cell_type": "code",
   "execution_count": 7,
   "metadata": {},
   "outputs": [
    {
     "name": "stdout",
     "output_type": "stream",
     "text": [
      "{1: 'BMW'}\n"
     ]
    }
   ],
   "source": [
    "dic6 = {}\n",
    "dic6[1] = 'BMW'\n",
    "print(dic6)"
   ]
  },
  {
   "cell_type": "code",
   "execution_count": 8,
   "metadata": {},
   "outputs": [
    {
     "name": "stdout",
     "output_type": "stream",
     "text": [
      "{1: 'BMW', 'two': 'Alpine'}\n"
     ]
    }
   ],
   "source": [
    "dic6['two'] = 'Alpine'\n",
    "print(dic6)"
   ]
  },
  {
   "cell_type": "code",
   "execution_count": 9,
   "metadata": {},
   "outputs": [
    {
     "name": "stdout",
     "output_type": "stream",
     "text": [
      "{1: 'BMW', 'two': 'Alpine', 'Tires': ('Michelin', 'MRF')}\n"
     ]
    }
   ],
   "source": [
    "dic6['Tires'] = ('Michelin', 'MRF')\n",
    "print(dic6)"
   ]
  },
  {
   "cell_type": "code",
   "execution_count": 10,
   "metadata": {},
   "outputs": [
    {
     "name": "stdout",
     "output_type": "stream",
     "text": [
      "{1: 'BMW', 'two': 'Alpine', 'Tires': {'Front': 'Michelin', 'Rear': 'MRF'}}\n"
     ]
    }
   ],
   "source": [
    "dic6['Tires'] = {'Front': 'Michelin', 'Rear': 'MRF'}\n",
    "print(dic6)"
   ]
  },
  {
   "cell_type": "code",
   "execution_count": null,
   "metadata": {},
   "outputs": [
    {
     "name": "stdout",
     "output_type": "stream",
     "text": [
      "BMW\n",
      "{'Front': 'Michelin', 'Rear': 'MRF'}\n",
      "Michelin\n"
     ]
    }
   ],
   "source": [
    "# Accessing elements\n",
    "print(dic6[1])\n",
    "print(dic6['Tires'])\n",
    "print(dic6['Tires']['Front'])"
   ]
  },
  {
   "cell_type": "code",
   "execution_count": 15,
   "metadata": {},
   "outputs": [
    {
     "name": "stdout",
     "output_type": "stream",
     "text": [
      "{'Front': 'Michelin', 'Rear': 'MRF'}\n"
     ]
    }
   ],
   "source": [
    "# Another way to access elements \n",
    "\n",
    "print(dic6.get('Tires'))"
   ]
  },
  {
   "cell_type": "code",
   "execution_count": null,
   "metadata": {},
   "outputs": [
    {
     "data": {
      "text/plain": [
       "'BMW'"
      ]
     },
     "execution_count": 17,
     "metadata": {},
     "output_type": "execute_result"
    }
   ],
   "source": [
    "# Deleting elements from a dictionary\n",
    "dic6.pop(1) # manual indexing"
   ]
  },
  {
   "cell_type": "code",
   "execution_count": 18,
   "metadata": {},
   "outputs": [
    {
     "name": "stdout",
     "output_type": "stream",
     "text": [
      "{'two': 'Alpine', 'Tires': {'Front': 'Michelin', 'Rear': 'MRF'}}\n"
     ]
    }
   ],
   "source": [
    "print(dic6)"
   ]
  },
  {
   "cell_type": "code",
   "execution_count": 19,
   "metadata": {},
   "outputs": [
    {
     "data": {
      "text/plain": [
       "('Tires', {'Front': 'Michelin', 'Rear': 'MRF'})"
      ]
     },
     "execution_count": 19,
     "metadata": {},
     "output_type": "execute_result"
    }
   ],
   "source": [
    "dic6.popitem() # removes the last item"
   ]
  },
  {
   "cell_type": "code",
   "execution_count": 20,
   "metadata": {},
   "outputs": [
    {
     "name": "stdout",
     "output_type": "stream",
     "text": [
      "{'two': 'Alpine'}\n"
     ]
    }
   ],
   "source": [
    "print(dic6)"
   ]
  },
  {
   "cell_type": "markdown",
   "metadata": {},
   "source": [
    "Using built-in functions"
   ]
  },
  {
   "cell_type": "code",
   "execution_count": 21,
   "metadata": {},
   "outputs": [
    {
     "data": {
      "text/plain": [
       "dict_values(['BMW', 'Alpine', 'Nissan', 'Ford'])"
      ]
     },
     "execution_count": 21,
     "metadata": {},
     "output_type": "execute_result"
    }
   ],
   "source": [
    "dic4.values()"
   ]
  },
  {
   "cell_type": "code",
   "execution_count": null,
   "metadata": {},
   "outputs": [
    {
     "data": {
      "text/plain": [
       "{'a': 1, 'd': 1, 'c': 1, 'b': 1}"
      ]
     },
     "execution_count": 23,
     "metadata": {},
     "output_type": "execute_result"
    }
   ],
   "source": [
    "key = {'a','b','c','d'} # will be arranged unordered\n",
    "value = 1\n",
    "dict.fromkeys(key,value)"
   ]
  },
  {
   "cell_type": "code",
   "execution_count": 24,
   "metadata": {},
   "outputs": [
    {
     "name": "stdout",
     "output_type": "stream",
     "text": [
      "{'one': 'BMW', 2: 'Alpine', 3: 'Nissan', 4: 'Ford'}\n"
     ]
    }
   ],
   "source": [
    "print(dic4)"
   ]
  },
  {
   "cell_type": "code",
   "execution_count": 26,
   "metadata": {},
   "outputs": [
    {
     "name": "stdout",
     "output_type": "stream",
     "text": [
      "{}\n"
     ]
    }
   ],
   "source": [
    "dic4.clear()\n",
    "print(dic4)"
   ]
  }
 ],
 "metadata": {
  "kernelspec": {
   "display_name": "Python 3",
   "language": "python",
   "name": "python3"
  },
  "language_info": {
   "codemirror_mode": {
    "name": "ipython",
    "version": 3
   },
   "file_extension": ".py",
   "mimetype": "text/x-python",
   "name": "python",
   "nbconvert_exporter": "python",
   "pygments_lexer": "ipython3",
   "version": "3.13.2"
  }
 },
 "nbformat": 4,
 "nbformat_minor": 2
}
