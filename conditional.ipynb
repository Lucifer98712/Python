{
 "cells": [
  {
   "cell_type": "markdown",
   "metadata": {},
   "source": [
    "If conditional statements in python like other programming language but in python format i.e. indentation style"
   ]
  },
  {
   "cell_type": "code",
   "execution_count": 1,
   "metadata": {},
   "outputs": [
    {
     "name": "stdout",
     "output_type": "stream",
     "text": [
      "Inside if block\n",
      "Outside if block\n"
     ]
    }
   ],
   "source": [
    "# normal if block\n",
    "x = 10\n",
    "if x>5 & x%2 == 0:\n",
    "    print(\"Inside if block\")\n",
    "print(\"Outside if block\")    "
   ]
  },
  {
   "cell_type": "code",
   "execution_count": 2,
   "metadata": {},
   "outputs": [
    {
     "name": "stdout",
     "output_type": "stream",
     "text": [
      "Inside else block\n",
      "Outside block\n"
     ]
    }
   ],
   "source": [
    "# if...else \n",
    "if(x%5 != 0):\n",
    "    print(\"Inside if block\")\n",
    "else:\n",
    "    print(\"Inside else block\") \n",
    "print(\"Outside block\")       "
   ]
  },
  {
   "cell_type": "markdown",
   "metadata": {},
   "source": [
    "Nested if statements\n",
    "Avoid if possible for optimization"
   ]
  },
  {
   "cell_type": "code",
   "execution_count": 4,
   "metadata": {},
   "outputs": [
    {
     "name": "stdout",
     "output_type": "stream",
     "text": [
      "Inside nested if block\n",
      "Outside block\n"
     ]
    }
   ],
   "source": [
    "if 5 % 2 !=0:\n",
    "    if 5 + 5 == 10:\n",
    "        print(\"Inside nested if block\")\n",
    "    else:\n",
    "        print(\"Inside nested else block\")\n",
    "else:\n",
    "    print(\"Main else block\")\n",
    "print(\"Outside block\")                "
   ]
  },
  {
   "cell_type": "markdown",
   "metadata": {},
   "source": [
    "If....elif....else ladder:"
   ]
  },
  {
   "cell_type": "code",
   "execution_count": 6,
   "metadata": {},
   "outputs": [
    {
     "name": "stdout",
     "output_type": "stream",
     "text": [
      "Vowel and its 'e'\n"
     ]
    }
   ],
   "source": [
    "var = 'e'\n",
    "if var == 'a':\n",
    "    print(\"Vowel and its 'a'\")\n",
    "elif var == 'e':\n",
    "    print(\"Vowel and its 'e'\")\n",
    "elif var == 'i':\n",
    "    print(\"Vowel and its 'i'\") \n",
    "elif var == 'o':\n",
    "    print(\"Vowel and its 'o'\")\n",
    "elif var == 'u':\n",
    "    print(\"Vowel and its 'u'\")\n",
    "else:\n",
    "    print(\"Consonant\")                         "
   ]
  }
 ],
 "metadata": {
  "kernelspec": {
   "display_name": "Python 3",
   "language": "python",
   "name": "python3"
  },
  "language_info": {
   "codemirror_mode": {
    "name": "ipython",
    "version": 3
   },
   "file_extension": ".py",
   "mimetype": "text/x-python",
   "name": "python",
   "nbconvert_exporter": "python",
   "pygments_lexer": "ipython3",
   "version": "3.13.2"
  }
 },
 "nbformat": 4,
 "nbformat_minor": 2
}
