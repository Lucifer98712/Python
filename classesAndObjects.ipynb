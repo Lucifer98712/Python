{
 "cells": [
  {
   "cell_type": "markdown",
   "id": "fa8542fc",
   "metadata": {},
   "source": [
    "Class: A class is a blueprint of similar objects.\n",
    "\n",
    "Object: Every instance in Python is an object."
   ]
  },
  {
   "cell_type": "code",
   "execution_count": 4,
   "id": "1baae3d0",
   "metadata": {},
   "outputs": [
    {
     "name": "stdout",
     "output_type": "stream",
     "text": [
      "Hello, my name is Sam\n",
      "I'm eligible to vote.\n"
     ]
    }
   ],
   "source": [
    "class Person:\n",
    "    def __init__(self,n,a,g):\n",
    "        self.name = n\n",
    "        self.age = a\n",
    "        self.gender = g\n",
    "\n",
    "    def talk(self):\n",
    "        print(\"Hello, my name is \" + self.name)\n",
    "\n",
    "    def vote(self):\n",
    "        if self.age >= 18:\n",
    "            print(\"I'm eligible to vote.\")\n",
    "        else:\n",
    "            print(\"I'm not eligible to vote.\")\n",
    "\n",
    "obj = Person(\"Sam\",22, \"Male\")\n",
    "Person.talk(obj)\n",
    "Person.vote(obj)"
   ]
  },
  {
   "cell_type": "code",
   "execution_count": 2,
   "id": "20a94686",
   "metadata": {},
   "outputs": [
    {
     "name": "stdout",
     "output_type": "stream",
     "text": [
      "Hello, my name is Sam\n",
      "I'm eligible to vote.\n"
     ]
    }
   ],
   "source": [
    "# Can also do this\n",
    "obj.talk()\n",
    "obj.vote()"
   ]
  },
  {
   "cell_type": "code",
   "execution_count": 5,
   "id": "eda2aebc",
   "metadata": {},
   "outputs": [
    {
     "name": "stdout",
     "output_type": "stream",
     "text": [
      "John Mary\n",
      "I'm eligible to vote.\n",
      "I'm not eligible to vote.\n"
     ]
    }
   ],
   "source": [
    "obj1 = Person(\"John\", 18, \"Male\")\n",
    "obj2 = Person(\"Mary\", 17, \"Female\")\n",
    "print(obj1.name, obj2.name)\n",
    "obj1.vote()\n",
    "obj2.vote()"
   ]
  }
 ],
 "metadata": {
  "kernelspec": {
   "display_name": "Python 3",
   "language": "python",
   "name": "python3"
  },
  "language_info": {
   "codemirror_mode": {
    "name": "ipython",
    "version": 3
   },
   "file_extension": ".py",
   "mimetype": "text/x-python",
   "name": "python",
   "nbconvert_exporter": "python",
   "pygments_lexer": "ipython3",
   "version": "3.13.2"
  }
 },
 "nbformat": 4,
 "nbformat_minor": 5
}
