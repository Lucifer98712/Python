{
 "cells": [
  {
   "cell_type": "markdown",
   "id": "7ff26c92",
   "metadata": {},
   "source": [
    "Python for Data Science\n",
    "\n",
    "Python libraries for data science: \n",
    "\n",
    "i) Tensor Flow: It's a library for high performance numerical computations. It's basically a framework where we can define and run computations which involves tensors. Tensors are partially defined computational objects where they will eventually produce a value. \n",
    "Features of tensorFlow: i) Majorly used in deep learning models and neural networks.   ii) Reduces the error largely by 50-60% in neural machine translation \n",
    "iii) Parallel computing(aka Pipelining) to execute complex models\n",
    "iv) Seamless library management  "
   ]
  },
  {
   "cell_type": "markdown",
   "id": "a0be13fd",
   "metadata": {},
   "source": [
    "ii) Numpy(Numerical Python): A fundamental package for numerical computation in Python.\n",
    "It's a generall purpose array-processing package. Contains a N-dimensional array object. "
   ]
  },
  {
   "cell_type": "code",
   "execution_count": 7,
   "id": "6d4e669a",
   "metadata": {},
   "outputs": [
    {
     "name": "stdout",
     "output_type": "stream",
     "text": [
      "<class 'numpy.ndarray'>\n",
      "[1 2 3]\n",
      "(3,)\n"
     ]
    }
   ],
   "source": [
    "import numpy as np\n",
    "\n",
    "a = np.array([1,2,3])\n",
    "print(type(a))\n",
    "print(a)\n",
    "print(a.shape) # gives the shape of array in matrix form"
   ]
  },
  {
   "cell_type": "code",
   "execution_count": null,
   "id": "87d1abd6",
   "metadata": {},
   "outputs": [
    {
     "data": {
      "text/plain": [
       "array([ 0,  1,  2,  3,  4,  5,  6,  7,  8,  9, 10, 11])"
      ]
     },
     "execution_count": 10,
     "metadata": {},
     "output_type": "execute_result"
    }
   ],
   "source": [
    "b= np.arange(12) # np.arange(12).reshape(4,3) Can also arrange here \n",
    "b"
   ]
  },
  {
   "cell_type": "code",
   "execution_count": 12,
   "id": "79feb502",
   "metadata": {},
   "outputs": [
    {
     "data": {
      "text/plain": [
       "array([[ 0,  1,  2],\n",
       "       [ 3,  4,  5],\n",
       "       [ 6,  7,  8],\n",
       "       [ 9, 10, 11]])"
      ]
     },
     "execution_count": 12,
     "metadata": {},
     "output_type": "execute_result"
    }
   ],
   "source": [
    "b.reshape(4,3)"
   ]
  }
 ],
 "metadata": {
  "kernelspec": {
   "display_name": "Python 3",
   "language": "python",
   "name": "python3"
  },
  "language_info": {
   "codemirror_mode": {
    "name": "ipython",
    "version": 3
   },
   "file_extension": ".py",
   "mimetype": "text/x-python",
   "name": "python",
   "nbconvert_exporter": "python",
   "pygments_lexer": "ipython3",
   "version": "3.13.2"
  }
 },
 "nbformat": 4,
 "nbformat_minor": 5
}
