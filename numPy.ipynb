{
 "cells": [
  {
   "cell_type": "markdown",
   "id": "7ff26c92",
   "metadata": {},
   "source": [
    "Python for Data Science\n",
    "\n",
    "Python libraries for data science: \n",
    "\n",
    "i) Tensor Flow: It's a library for high performance numerical computations. It's basically a framework where we can define and run computations which involves tensors. Tensors are partially defined computational objects where they will eventually produce a value. \n",
    "Features of tensorFlow: i) Majorly used in deep learning models and neural networks.   ii) Reduces the error largely by 50-60% in neural machine translation \n",
    "iii) Parallel computing(aka Pipelining) to execute complex models\n",
    "iv) Seamless library management  "
   ]
  },
  {
   "cell_type": "markdown",
   "id": "a0be13fd",
   "metadata": {},
   "source": [
    "ii) Numpy(Numerical Python): A fundamental package for numerical computation in Python.\n",
    "It's a generall purpose array-processing package. Contains a N-dimensional array object. "
   ]
  },
  {
   "cell_type": "code",
   "execution_count": 3,
   "id": "6d4e669a",
   "metadata": {},
   "outputs": [
    {
     "name": "stdout",
     "output_type": "stream",
     "text": [
      "<class 'numpy.ndarray'>\n",
      "[1 2 3]\n",
      "(3,)\n"
     ]
    }
   ],
   "source": [
    "import numpy as np\n",
    "\n",
    "a = np.array([1,2,3])\n",
    "print(type(a))\n",
    "print(a)\n",
    "print(a.shape) # gives the shape of array in matrix form"
   ]
  },
  {
   "cell_type": "code",
   "execution_count": 4,
   "id": "87d1abd6",
   "metadata": {},
   "outputs": [
    {
     "data": {
      "text/plain": [
       "array([ 0,  1,  2,  3,  4,  5,  6,  7,  8,  9, 10, 11])"
      ]
     },
     "execution_count": 4,
     "metadata": {},
     "output_type": "execute_result"
    }
   ],
   "source": [
    "b= np.arange(12) # np.arange(12).reshape(4,3) Can also arrange here \n",
    "b"
   ]
  },
  {
   "cell_type": "code",
   "execution_count": 7,
   "id": "79feb502",
   "metadata": {},
   "outputs": [
    {
     "data": {
      "text/plain": [
       "array([[[ 0,  1,  2],\n",
       "        [ 3,  4,  5]],\n",
       "\n",
       "       [[ 6,  7,  8],\n",
       "        [ 9, 10, 11]]])"
      ]
     },
     "execution_count": 7,
     "metadata": {},
     "output_type": "execute_result"
    }
   ],
   "source": [
    "b.reshape(2,2,3)"
   ]
  },
  {
   "cell_type": "code",
   "execution_count": 8,
   "id": "65fe557d",
   "metadata": {},
   "outputs": [
    {
     "name": "stdout",
     "output_type": "stream",
     "text": [
      "28000\n"
     ]
    }
   ],
   "source": [
    "import time\n",
    "import sys\n",
    "\n",
    "nor = range(1000)\n",
    "print(sys.getsizeof(5)*len(nor))"
   ]
  },
  {
   "cell_type": "code",
   "execution_count": null,
   "id": "8b7b5cad",
   "metadata": {},
   "outputs": [
    {
     "name": "stdout",
     "output_type": "stream",
     "text": [
      "8000\n",
      "8000\n"
     ]
    }
   ],
   "source": [
    "num = np.arange(1000)\n",
    "print(num.size*num.itemsize) # numpy less memory"
   ]
  },
  {
   "cell_type": "code",
   "execution_count": 143,
   "id": "9cff9ff3",
   "metadata": {},
   "outputs": [
    {
     "name": "stdout",
     "output_type": "stream",
     "text": [
      "Python list took 9.144783020019531 ms\n"
     ]
    }
   ],
   "source": [
    "size = 100000\n",
    "\n",
    "L1 = range(size)\n",
    "L2 = range(size)\n",
    "A1 = np.arange(1000)\n",
    "A2 = np.arange(1000)\n",
    "\n",
    "start = time.time()\n",
    "result = [(x+y) for x,y in zip(L1,L2)]\n",
    "print(\"Python list took\", (time.time()-start)*1000, \"ms\")"
   ]
  },
  {
   "cell_type": "code",
   "execution_count": 149,
   "id": "5c9c45c9",
   "metadata": {},
   "outputs": [
    {
     "name": "stdout",
     "output_type": "stream",
     "text": [
      "Numpy array took 0.1220703125 ms\n"
     ]
    }
   ],
   "source": [
    "start = time.time()\n",
    "result = A1 + A2 # More convinient\n",
    "print(\"Numpy array took\", (time.time()-start)*1000, \"ms\") # Faster"
   ]
  }
 ],
 "metadata": {
  "kernelspec": {
   "display_name": "Python 3",
   "language": "python",
   "name": "python3"
  },
  "language_info": {
   "codemirror_mode": {
    "name": "ipython",
    "version": 3
   },
   "file_extension": ".py",
   "mimetype": "text/x-python",
   "name": "python",
   "nbconvert_exporter": "python",
   "pygments_lexer": "ipython3",
   "version": "3.13.2"
  }
 },
 "nbformat": 4,
 "nbformat_minor": 5
}
